{
 "cells": [
  {
   "cell_type": "markdown",
   "id": "breeding-delhi",
   "metadata": {
    "_cell_guid": "b1076dfc-b9ad-4769-8c92-a6c4dae69d19",
    "_uuid": "8f2839f25d086af736a60e9eeb907d3b93b6e0e5",
    "papermill": {
     "duration": 0.014734,
     "end_time": "2021-05-31T07:13:18.063134",
     "exception": false,
     "start_time": "2021-05-31T07:13:18.048400",
     "status": "completed"
    },
    "tags": []
   },
   "source": [
    "# Credit Card Lead Prediction"
   ]
  },
  {
   "cell_type": "code",
   "execution_count": 1,
   "id": "linear-mumbai",
   "metadata": {
    "execution": {
     "iopub.execute_input": "2021-05-31T07:13:18.100724Z",
     "iopub.status.busy": "2021-05-31T07:13:18.100121Z",
     "iopub.status.idle": "2021-05-31T07:13:20.679650Z",
     "shell.execute_reply": "2021-05-31T07:13:20.678968Z",
     "shell.execute_reply.started": "2021-05-31T07:10:18.346360Z"
    },
    "papermill": {
     "duration": 2.602431,
     "end_time": "2021-05-31T07:13:20.679816",
     "exception": false,
     "start_time": "2021-05-31T07:13:18.077385",
     "status": "completed"
    },
    "tags": []
   },
   "outputs": [
    {
     "data": {
      "text/html": [
       "<style type='text/css'>\n",
       ".datatable table.frame { margin-bottom: 0; }\n",
       ".datatable table.frame thead { border-bottom: none; }\n",
       ".datatable table.frame tr.coltypes td {  color: #FFFFFF;  line-height: 6px;  padding: 0 0.5em;}\n",
       ".datatable .bool    { background: #DDDD99; }\n",
       ".datatable .object  { background: #565656; }\n",
       ".datatable .int     { background: #5D9E5D; }\n",
       ".datatable .float   { background: #4040CC; }\n",
       ".datatable .str     { background: #CC4040; }\n",
       ".datatable .row_index {  background: var(--jp-border-color3);  border-right: 1px solid var(--jp-border-color0);  color: var(--jp-ui-font-color3);  font-size: 9px;}\n",
       ".datatable .frame tr.coltypes .row_index {  background: var(--jp-border-color0);}\n",
       ".datatable th:nth-child(2) { padding-left: 12px; }\n",
       ".datatable .hellipsis {  color: var(--jp-cell-editor-border-color);}\n",
       ".datatable .vellipsis {  background: var(--jp-layout-color0);  color: var(--jp-cell-editor-border-color);}\n",
       ".datatable .na {  color: var(--jp-cell-editor-border-color);  font-size: 80%;}\n",
       ".datatable .footer { font-size: 9px; }\n",
       ".datatable .frame_dimensions {  background: var(--jp-border-color3);  border-top: 1px solid var(--jp-border-color0);  color: var(--jp-ui-font-color3);  display: inline-block;  opacity: 0.6;  padding: 1px 10px 1px 5px;}\n",
       "</style>\n"
      ],
      "text/plain": [
       "<IPython.core.display.HTML object>"
      ]
     },
     "metadata": {},
     "output_type": "display_data"
    }
   ],
   "source": [
    "# Importing required libraries\n",
    "\n",
    "import numpy as np\n",
    "import pandas as pd\n",
    "import seaborn as sns\n",
    "import matplotlib.pyplot as plt\n",
    "import scipy.stats as stat\n",
    "import pylab\n",
    "from sklearn.preprocessing import LabelEncoder\n",
    "from imblearn.over_sampling import RandomOverSampler\n",
    "from collections import Counter\n",
    "from sklearn.model_selection import train_test_split\n",
    "from sklearn.metrics import roc_auc_score, accuracy_score\n",
    "from xgboost import XGBClassifier \n",
    "from lightgbm import LGBMClassifier"
   ]
  },
  {
   "cell_type": "code",
   "execution_count": 2,
   "id": "small-uniform",
   "metadata": {
    "execution": {
     "iopub.execute_input": "2021-05-31T07:13:20.713411Z",
     "iopub.status.busy": "2021-05-31T07:13:20.712802Z",
     "iopub.status.idle": "2021-05-31T07:13:21.623952Z",
     "shell.execute_reply": "2021-05-31T07:13:21.623465Z",
     "shell.execute_reply.started": "2021-05-31T07:10:18.356093Z"
    },
    "papermill": {
     "duration": 0.929346,
     "end_time": "2021-05-31T07:13:21.624132",
     "exception": false,
     "start_time": "2021-05-31T07:13:20.694786",
     "status": "completed"
    },
    "tags": []
   },
   "outputs": [],
   "source": [
    "# Loading datasets\n",
    "\n",
    "train=pd.read_csv('../input/jobathon-data/Data/train_s3TEQDk.csv')\n",
    "test=pd.read_csv('../input/jobathon-data/Data/test_mSzZ8RL.csv')"
   ]
  },
  {
   "cell_type": "code",
   "execution_count": 3,
   "id": "marked-advisory",
   "metadata": {
    "execution": {
     "iopub.execute_input": "2021-05-31T07:13:21.663245Z",
     "iopub.status.busy": "2021-05-31T07:13:21.662439Z",
     "iopub.status.idle": "2021-05-31T07:13:21.683431Z",
     "shell.execute_reply": "2021-05-31T07:13:21.683860Z",
     "shell.execute_reply.started": "2021-05-31T07:10:18.963268Z"
    },
    "papermill": {
     "duration": 0.044916,
     "end_time": "2021-05-31T07:13:21.684035",
     "exception": false,
     "start_time": "2021-05-31T07:13:21.639119",
     "status": "completed"
    },
    "tags": []
   },
   "outputs": [
    {
     "data": {
      "text/html": [
       "<div>\n",
       "<style scoped>\n",
       "    .dataframe tbody tr th:only-of-type {\n",
       "        vertical-align: middle;\n",
       "    }\n",
       "\n",
       "    .dataframe tbody tr th {\n",
       "        vertical-align: top;\n",
       "    }\n",
       "\n",
       "    .dataframe thead th {\n",
       "        text-align: right;\n",
       "    }\n",
       "</style>\n",
       "<table border=\"1\" class=\"dataframe\">\n",
       "  <thead>\n",
       "    <tr style=\"text-align: right;\">\n",
       "      <th></th>\n",
       "      <th>ID</th>\n",
       "      <th>Gender</th>\n",
       "      <th>Age</th>\n",
       "      <th>Region_Code</th>\n",
       "      <th>Occupation</th>\n",
       "      <th>Channel_Code</th>\n",
       "      <th>Vintage</th>\n",
       "      <th>Credit_Product</th>\n",
       "      <th>Avg_Account_Balance</th>\n",
       "      <th>Is_Active</th>\n",
       "      <th>Is_Lead</th>\n",
       "    </tr>\n",
       "  </thead>\n",
       "  <tbody>\n",
       "    <tr>\n",
       "      <th>0</th>\n",
       "      <td>NNVBBKZB</td>\n",
       "      <td>Female</td>\n",
       "      <td>73</td>\n",
       "      <td>RG268</td>\n",
       "      <td>Other</td>\n",
       "      <td>X3</td>\n",
       "      <td>43</td>\n",
       "      <td>No</td>\n",
       "      <td>1045696</td>\n",
       "      <td>No</td>\n",
       "      <td>0</td>\n",
       "    </tr>\n",
       "    <tr>\n",
       "      <th>1</th>\n",
       "      <td>IDD62UNG</td>\n",
       "      <td>Female</td>\n",
       "      <td>30</td>\n",
       "      <td>RG277</td>\n",
       "      <td>Salaried</td>\n",
       "      <td>X1</td>\n",
       "      <td>32</td>\n",
       "      <td>No</td>\n",
       "      <td>581988</td>\n",
       "      <td>No</td>\n",
       "      <td>0</td>\n",
       "    </tr>\n",
       "    <tr>\n",
       "      <th>2</th>\n",
       "      <td>HD3DSEMC</td>\n",
       "      <td>Female</td>\n",
       "      <td>56</td>\n",
       "      <td>RG268</td>\n",
       "      <td>Self_Employed</td>\n",
       "      <td>X3</td>\n",
       "      <td>26</td>\n",
       "      <td>No</td>\n",
       "      <td>1484315</td>\n",
       "      <td>Yes</td>\n",
       "      <td>0</td>\n",
       "    </tr>\n",
       "    <tr>\n",
       "      <th>3</th>\n",
       "      <td>BF3NC7KV</td>\n",
       "      <td>Male</td>\n",
       "      <td>34</td>\n",
       "      <td>RG270</td>\n",
       "      <td>Salaried</td>\n",
       "      <td>X1</td>\n",
       "      <td>19</td>\n",
       "      <td>No</td>\n",
       "      <td>470454</td>\n",
       "      <td>No</td>\n",
       "      <td>0</td>\n",
       "    </tr>\n",
       "    <tr>\n",
       "      <th>4</th>\n",
       "      <td>TEASRWXV</td>\n",
       "      <td>Female</td>\n",
       "      <td>30</td>\n",
       "      <td>RG282</td>\n",
       "      <td>Salaried</td>\n",
       "      <td>X1</td>\n",
       "      <td>33</td>\n",
       "      <td>No</td>\n",
       "      <td>886787</td>\n",
       "      <td>No</td>\n",
       "      <td>0</td>\n",
       "    </tr>\n",
       "  </tbody>\n",
       "</table>\n",
       "</div>"
      ],
      "text/plain": [
       "         ID  Gender  Age Region_Code     Occupation Channel_Code  Vintage  \\\n",
       "0  NNVBBKZB  Female   73       RG268          Other           X3       43   \n",
       "1  IDD62UNG  Female   30       RG277       Salaried           X1       32   \n",
       "2  HD3DSEMC  Female   56       RG268  Self_Employed           X3       26   \n",
       "3  BF3NC7KV    Male   34       RG270       Salaried           X1       19   \n",
       "4  TEASRWXV  Female   30       RG282       Salaried           X1       33   \n",
       "\n",
       "  Credit_Product  Avg_Account_Balance Is_Active  Is_Lead  \n",
       "0             No              1045696        No        0  \n",
       "1             No               581988        No        0  \n",
       "2             No              1484315       Yes        0  \n",
       "3             No               470454        No        0  \n",
       "4             No               886787        No        0  "
      ]
     },
     "execution_count": 3,
     "metadata": {},
     "output_type": "execute_result"
    }
   ],
   "source": [
    "train.head()"
   ]
  },
  {
   "cell_type": "code",
   "execution_count": 4,
   "id": "relative-visiting",
   "metadata": {
    "execution": {
     "iopub.execute_input": "2021-05-31T07:13:21.726484Z",
     "iopub.status.busy": "2021-05-31T07:13:21.725593Z",
     "iopub.status.idle": "2021-05-31T07:13:21.729944Z",
     "shell.execute_reply": "2021-05-31T07:13:21.729416Z",
     "shell.execute_reply.started": "2021-05-31T07:10:18.981783Z"
    },
    "papermill": {
     "duration": 0.031491,
     "end_time": "2021-05-31T07:13:21.730091",
     "exception": false,
     "start_time": "2021-05-31T07:13:21.698600",
     "status": "completed"
    },
    "tags": []
   },
   "outputs": [
    {
     "data": {
      "text/html": [
       "<div>\n",
       "<style scoped>\n",
       "    .dataframe tbody tr th:only-of-type {\n",
       "        vertical-align: middle;\n",
       "    }\n",
       "\n",
       "    .dataframe tbody tr th {\n",
       "        vertical-align: top;\n",
       "    }\n",
       "\n",
       "    .dataframe thead th {\n",
       "        text-align: right;\n",
       "    }\n",
       "</style>\n",
       "<table border=\"1\" class=\"dataframe\">\n",
       "  <thead>\n",
       "    <tr style=\"text-align: right;\">\n",
       "      <th></th>\n",
       "      <th>ID</th>\n",
       "      <th>Gender</th>\n",
       "      <th>Age</th>\n",
       "      <th>Region_Code</th>\n",
       "      <th>Occupation</th>\n",
       "      <th>Channel_Code</th>\n",
       "      <th>Vintage</th>\n",
       "      <th>Credit_Product</th>\n",
       "      <th>Avg_Account_Balance</th>\n",
       "      <th>Is_Active</th>\n",
       "    </tr>\n",
       "  </thead>\n",
       "  <tbody>\n",
       "    <tr>\n",
       "      <th>0</th>\n",
       "      <td>VBENBARO</td>\n",
       "      <td>Male</td>\n",
       "      <td>29</td>\n",
       "      <td>RG254</td>\n",
       "      <td>Other</td>\n",
       "      <td>X1</td>\n",
       "      <td>25</td>\n",
       "      <td>Yes</td>\n",
       "      <td>742366</td>\n",
       "      <td>No</td>\n",
       "    </tr>\n",
       "    <tr>\n",
       "      <th>1</th>\n",
       "      <td>CCMEWNKY</td>\n",
       "      <td>Male</td>\n",
       "      <td>43</td>\n",
       "      <td>RG268</td>\n",
       "      <td>Other</td>\n",
       "      <td>X2</td>\n",
       "      <td>49</td>\n",
       "      <td>NaN</td>\n",
       "      <td>925537</td>\n",
       "      <td>No</td>\n",
       "    </tr>\n",
       "    <tr>\n",
       "      <th>2</th>\n",
       "      <td>VK3KGA9M</td>\n",
       "      <td>Male</td>\n",
       "      <td>31</td>\n",
       "      <td>RG270</td>\n",
       "      <td>Salaried</td>\n",
       "      <td>X1</td>\n",
       "      <td>14</td>\n",
       "      <td>No</td>\n",
       "      <td>215949</td>\n",
       "      <td>No</td>\n",
       "    </tr>\n",
       "    <tr>\n",
       "      <th>3</th>\n",
       "      <td>TT8RPZVC</td>\n",
       "      <td>Male</td>\n",
       "      <td>29</td>\n",
       "      <td>RG272</td>\n",
       "      <td>Other</td>\n",
       "      <td>X1</td>\n",
       "      <td>33</td>\n",
       "      <td>No</td>\n",
       "      <td>868070</td>\n",
       "      <td>No</td>\n",
       "    </tr>\n",
       "    <tr>\n",
       "      <th>4</th>\n",
       "      <td>SHQZEYTZ</td>\n",
       "      <td>Female</td>\n",
       "      <td>29</td>\n",
       "      <td>RG270</td>\n",
       "      <td>Other</td>\n",
       "      <td>X1</td>\n",
       "      <td>19</td>\n",
       "      <td>No</td>\n",
       "      <td>657087</td>\n",
       "      <td>No</td>\n",
       "    </tr>\n",
       "  </tbody>\n",
       "</table>\n",
       "</div>"
      ],
      "text/plain": [
       "         ID  Gender  Age Region_Code Occupation Channel_Code  Vintage  \\\n",
       "0  VBENBARO    Male   29       RG254      Other           X1       25   \n",
       "1  CCMEWNKY    Male   43       RG268      Other           X2       49   \n",
       "2  VK3KGA9M    Male   31       RG270   Salaried           X1       14   \n",
       "3  TT8RPZVC    Male   29       RG272      Other           X1       33   \n",
       "4  SHQZEYTZ  Female   29       RG270      Other           X1       19   \n",
       "\n",
       "  Credit_Product  Avg_Account_Balance Is_Active  \n",
       "0            Yes               742366        No  \n",
       "1            NaN               925537        No  \n",
       "2             No               215949        No  \n",
       "3             No               868070        No  \n",
       "4             No               657087        No  "
      ]
     },
     "execution_count": 4,
     "metadata": {},
     "output_type": "execute_result"
    }
   ],
   "source": [
    "test.head()"
   ]
  },
  {
   "cell_type": "markdown",
   "id": "diverse-petroleum",
   "metadata": {
    "papermill": {
     "duration": 0.014573,
     "end_time": "2021-05-31T07:13:21.759817",
     "exception": false,
     "start_time": "2021-05-31T07:13:21.745244",
     "status": "completed"
    },
    "tags": []
   },
   "source": [
    "## Handling Missing Values"
   ]
  },
  {
   "cell_type": "code",
   "execution_count": 5,
   "id": "italian-montreal",
   "metadata": {
    "execution": {
     "iopub.execute_input": "2021-05-31T07:13:21.854086Z",
     "iopub.status.busy": "2021-05-31T07:13:21.793550Z",
     "iopub.status.idle": "2021-05-31T07:13:21.893724Z",
     "shell.execute_reply": "2021-05-31T07:13:21.893249Z",
     "shell.execute_reply.started": "2021-05-31T07:10:19.012382Z"
    },
    "papermill": {
     "duration": 0.119113,
     "end_time": "2021-05-31T07:13:21.893857",
     "exception": false,
     "start_time": "2021-05-31T07:13:21.774744",
     "status": "completed"
    },
    "tags": []
   },
   "outputs": [
    {
     "data": {
      "text/plain": [
       "(ID                         0\n",
       " Gender                     0\n",
       " Age                        0\n",
       " Region_Code                0\n",
       " Occupation                 0\n",
       " Channel_Code               0\n",
       " Vintage                    0\n",
       " Credit_Product         29325\n",
       " Avg_Account_Balance        0\n",
       " Is_Active                  0\n",
       " Is_Lead                    0\n",
       " dtype: int64,\n",
       " ID                         0\n",
       " Gender                     0\n",
       " Age                        0\n",
       " Region_Code                0\n",
       " Occupation                 0\n",
       " Channel_Code               0\n",
       " Vintage                    0\n",
       " Credit_Product         12522\n",
       " Avg_Account_Balance        0\n",
       " Is_Active                  0\n",
       " dtype: int64)"
      ]
     },
     "execution_count": 5,
     "metadata": {},
     "output_type": "execute_result"
    }
   ],
   "source": [
    "train.isnull().sum(), test.isnull().sum()"
   ]
  },
  {
   "cell_type": "code",
   "execution_count": 6,
   "id": "restricted-enzyme",
   "metadata": {
    "execution": {
     "iopub.execute_input": "2021-05-31T07:13:21.956160Z",
     "iopub.status.busy": "2021-05-31T07:13:21.953579Z",
     "iopub.status.idle": "2021-05-31T07:13:21.961036Z",
     "shell.execute_reply": "2021-05-31T07:13:21.960569Z",
     "shell.execute_reply.started": "2021-05-31T07:10:19.255232Z"
    },
    "papermill": {
     "duration": 0.050612,
     "end_time": "2021-05-31T07:13:21.961177",
     "exception": false,
     "start_time": "2021-05-31T07:13:21.910565",
     "status": "completed"
    },
    "tags": []
   },
   "outputs": [
    {
     "data": {
      "text/plain": [
       "No     144357\n",
       "Yes     72043\n",
       "Name: Credit_Product, dtype: int64"
      ]
     },
     "execution_count": 6,
     "metadata": {},
     "output_type": "execute_result"
    }
   ],
   "source": [
    "train['Credit_Product'].value_counts()"
   ]
  },
  {
   "cell_type": "code",
   "execution_count": 7,
   "id": "anonymous-biography",
   "metadata": {
    "execution": {
     "iopub.execute_input": "2021-05-31T07:13:22.016573Z",
     "iopub.status.busy": "2021-05-31T07:13:22.008617Z",
     "iopub.status.idle": "2021-05-31T07:13:22.020898Z",
     "shell.execute_reply": "2021-05-31T07:13:22.020388Z",
     "shell.execute_reply.started": "2021-05-31T07:10:19.316204Z"
    },
    "papermill": {
     "duration": 0.043779,
     "end_time": "2021-05-31T07:13:22.021050",
     "exception": false,
     "start_time": "2021-05-31T07:13:21.977271",
     "status": "completed"
    },
    "tags": []
   },
   "outputs": [],
   "source": [
    "train['Credit_Product'].fillna('Yes', inplace = True)\n",
    "test['Credit_Product'].fillna('Yes', inplace = True)"
   ]
  },
  {
   "cell_type": "markdown",
   "id": "interior-character",
   "metadata": {
    "papermill": {
     "duration": 0.015333,
     "end_time": "2021-05-31T07:13:22.052257",
     "exception": false,
     "start_time": "2021-05-31T07:13:22.036924",
     "status": "completed"
    },
    "tags": []
   },
   "source": [
    "## Feature Engineering"
   ]
  },
  {
   "cell_type": "code",
   "execution_count": 8,
   "id": "cheap-humanitarian",
   "metadata": {
    "execution": {
     "iopub.execute_input": "2021-05-31T07:13:22.091024Z",
     "iopub.status.busy": "2021-05-31T07:13:22.090410Z",
     "iopub.status.idle": "2021-05-31T07:13:22.095160Z",
     "shell.execute_reply": "2021-05-31T07:13:22.094654Z",
     "shell.execute_reply.started": "2021-05-31T07:10:19.369292Z"
    },
    "papermill": {
     "duration": 0.027637,
     "end_time": "2021-05-31T07:13:22.095292",
     "exception": false,
     "start_time": "2021-05-31T07:13:22.067655",
     "status": "completed"
    },
    "tags": []
   },
   "outputs": [
    {
     "data": {
      "text/plain": [
       "ID                     object\n",
       "Gender                 object\n",
       "Age                     int64\n",
       "Region_Code            object\n",
       "Occupation             object\n",
       "Channel_Code           object\n",
       "Vintage                 int64\n",
       "Credit_Product         object\n",
       "Avg_Account_Balance     int64\n",
       "Is_Active              object\n",
       "Is_Lead                 int64\n",
       "dtype: object"
      ]
     },
     "execution_count": 8,
     "metadata": {},
     "output_type": "execute_result"
    }
   ],
   "source": [
    "train.dtypes"
   ]
  },
  {
   "cell_type": "code",
   "execution_count": 9,
   "id": "graphic-schema",
   "metadata": {
    "execution": {
     "iopub.execute_input": "2021-05-31T07:13:22.139023Z",
     "iopub.status.busy": "2021-05-31T07:13:22.138415Z",
     "iopub.status.idle": "2021-05-31T07:13:22.542077Z",
     "shell.execute_reply": "2021-05-31T07:13:22.542556Z",
     "shell.execute_reply.started": "2021-05-31T07:10:19.379396Z"
    },
    "papermill": {
     "duration": 0.431586,
     "end_time": "2021-05-31T07:13:22.542746",
     "exception": false,
     "start_time": "2021-05-31T07:13:22.111160",
     "status": "completed"
    },
    "tags": []
   },
   "outputs": [],
   "source": [
    "# Using LabelEncoder to transform categorical features into numerical features\n",
    "\n",
    "le = LabelEncoder()\n",
    "catg_var = ['Gender', 'Occupation','Channel_Code','Credit_Product','Is_Active']\n",
    "for i in catg_var:\n",
    "    train[i] = le.fit_transform(train[i])\n",
    "    test[i] = le.fit_transform(test[i])"
   ]
  },
  {
   "cell_type": "code",
   "execution_count": 10,
   "id": "fundamental-handy",
   "metadata": {
    "execution": {
     "iopub.execute_input": "2021-05-31T07:13:22.577058Z",
     "iopub.status.busy": "2021-05-31T07:13:22.576496Z",
     "iopub.status.idle": "2021-05-31T07:13:23.552365Z",
     "shell.execute_reply": "2021-05-31T07:13:23.552858Z",
     "shell.execute_reply.started": "2021-05-31T07:10:20.066380Z"
    },
    "papermill": {
     "duration": 0.994571,
     "end_time": "2021-05-31T07:13:23.553063",
     "exception": false,
     "start_time": "2021-05-31T07:13:22.558492",
     "status": "completed"
    },
    "tags": []
   },
   "outputs": [],
   "source": [
    "# One Hot Encoding 'Region_Code'\n",
    "\n",
    "list_rc=list(train.Region_Code.value_counts().index)\n",
    "for i in list_rc:\n",
    "    train[i]=np.where(train['Region_Code']==i, 1,0)\n",
    "    test[i]=np.where(test['Region_Code']==i, 1,0)\n",
    "train.drop('Region_Code', axis = 1, inplace = True)\n",
    "test.drop('Region_Code', axis = 1, inplace = True)"
   ]
  },
  {
   "cell_type": "code",
   "execution_count": 11,
   "id": "available-genealogy",
   "metadata": {
    "execution": {
     "iopub.execute_input": "2021-05-31T07:13:23.589150Z",
     "iopub.status.busy": "2021-05-31T07:13:23.588537Z",
     "iopub.status.idle": "2021-05-31T07:13:23.605272Z",
     "shell.execute_reply": "2021-05-31T07:13:23.605676Z",
     "shell.execute_reply.started": "2021-05-31T07:10:22.089513Z"
    },
    "papermill": {
     "duration": 0.036641,
     "end_time": "2021-05-31T07:13:23.605838",
     "exception": false,
     "start_time": "2021-05-31T07:13:23.569197",
     "status": "completed"
    },
    "tags": []
   },
   "outputs": [
    {
     "data": {
      "text/html": [
       "<div>\n",
       "<style scoped>\n",
       "    .dataframe tbody tr th:only-of-type {\n",
       "        vertical-align: middle;\n",
       "    }\n",
       "\n",
       "    .dataframe tbody tr th {\n",
       "        vertical-align: top;\n",
       "    }\n",
       "\n",
       "    .dataframe thead th {\n",
       "        text-align: right;\n",
       "    }\n",
       "</style>\n",
       "<table border=\"1\" class=\"dataframe\">\n",
       "  <thead>\n",
       "    <tr style=\"text-align: right;\">\n",
       "      <th></th>\n",
       "      <th>ID</th>\n",
       "      <th>Gender</th>\n",
       "      <th>Age</th>\n",
       "      <th>Occupation</th>\n",
       "      <th>Channel_Code</th>\n",
       "      <th>Vintage</th>\n",
       "      <th>Credit_Product</th>\n",
       "      <th>Avg_Account_Balance</th>\n",
       "      <th>Is_Active</th>\n",
       "      <th>Is_Lead</th>\n",
       "      <th>...</th>\n",
       "      <th>RG250</th>\n",
       "      <th>RG255</th>\n",
       "      <th>RG258</th>\n",
       "      <th>RG253</th>\n",
       "      <th>RG278</th>\n",
       "      <th>RG262</th>\n",
       "      <th>RG266</th>\n",
       "      <th>RG265</th>\n",
       "      <th>RG271</th>\n",
       "      <th>RG267</th>\n",
       "    </tr>\n",
       "  </thead>\n",
       "  <tbody>\n",
       "    <tr>\n",
       "      <th>0</th>\n",
       "      <td>NNVBBKZB</td>\n",
       "      <td>0</td>\n",
       "      <td>73</td>\n",
       "      <td>1</td>\n",
       "      <td>2</td>\n",
       "      <td>43</td>\n",
       "      <td>0</td>\n",
       "      <td>1045696</td>\n",
       "      <td>0</td>\n",
       "      <td>0</td>\n",
       "      <td>...</td>\n",
       "      <td>0</td>\n",
       "      <td>0</td>\n",
       "      <td>0</td>\n",
       "      <td>0</td>\n",
       "      <td>0</td>\n",
       "      <td>0</td>\n",
       "      <td>0</td>\n",
       "      <td>0</td>\n",
       "      <td>0</td>\n",
       "      <td>0</td>\n",
       "    </tr>\n",
       "    <tr>\n",
       "      <th>1</th>\n",
       "      <td>IDD62UNG</td>\n",
       "      <td>0</td>\n",
       "      <td>30</td>\n",
       "      <td>2</td>\n",
       "      <td>0</td>\n",
       "      <td>32</td>\n",
       "      <td>0</td>\n",
       "      <td>581988</td>\n",
       "      <td>0</td>\n",
       "      <td>0</td>\n",
       "      <td>...</td>\n",
       "      <td>0</td>\n",
       "      <td>0</td>\n",
       "      <td>0</td>\n",
       "      <td>0</td>\n",
       "      <td>0</td>\n",
       "      <td>0</td>\n",
       "      <td>0</td>\n",
       "      <td>0</td>\n",
       "      <td>0</td>\n",
       "      <td>0</td>\n",
       "    </tr>\n",
       "    <tr>\n",
       "      <th>2</th>\n",
       "      <td>HD3DSEMC</td>\n",
       "      <td>0</td>\n",
       "      <td>56</td>\n",
       "      <td>3</td>\n",
       "      <td>2</td>\n",
       "      <td>26</td>\n",
       "      <td>0</td>\n",
       "      <td>1484315</td>\n",
       "      <td>1</td>\n",
       "      <td>0</td>\n",
       "      <td>...</td>\n",
       "      <td>0</td>\n",
       "      <td>0</td>\n",
       "      <td>0</td>\n",
       "      <td>0</td>\n",
       "      <td>0</td>\n",
       "      <td>0</td>\n",
       "      <td>0</td>\n",
       "      <td>0</td>\n",
       "      <td>0</td>\n",
       "      <td>0</td>\n",
       "    </tr>\n",
       "    <tr>\n",
       "      <th>3</th>\n",
       "      <td>BF3NC7KV</td>\n",
       "      <td>1</td>\n",
       "      <td>34</td>\n",
       "      <td>2</td>\n",
       "      <td>0</td>\n",
       "      <td>19</td>\n",
       "      <td>0</td>\n",
       "      <td>470454</td>\n",
       "      <td>0</td>\n",
       "      <td>0</td>\n",
       "      <td>...</td>\n",
       "      <td>0</td>\n",
       "      <td>0</td>\n",
       "      <td>0</td>\n",
       "      <td>0</td>\n",
       "      <td>0</td>\n",
       "      <td>0</td>\n",
       "      <td>0</td>\n",
       "      <td>0</td>\n",
       "      <td>0</td>\n",
       "      <td>0</td>\n",
       "    </tr>\n",
       "    <tr>\n",
       "      <th>4</th>\n",
       "      <td>TEASRWXV</td>\n",
       "      <td>0</td>\n",
       "      <td>30</td>\n",
       "      <td>2</td>\n",
       "      <td>0</td>\n",
       "      <td>33</td>\n",
       "      <td>0</td>\n",
       "      <td>886787</td>\n",
       "      <td>0</td>\n",
       "      <td>0</td>\n",
       "      <td>...</td>\n",
       "      <td>0</td>\n",
       "      <td>0</td>\n",
       "      <td>0</td>\n",
       "      <td>0</td>\n",
       "      <td>0</td>\n",
       "      <td>0</td>\n",
       "      <td>0</td>\n",
       "      <td>0</td>\n",
       "      <td>0</td>\n",
       "      <td>0</td>\n",
       "    </tr>\n",
       "  </tbody>\n",
       "</table>\n",
       "<p>5 rows × 45 columns</p>\n",
       "</div>"
      ],
      "text/plain": [
       "         ID  Gender  Age  Occupation  Channel_Code  Vintage  Credit_Product  \\\n",
       "0  NNVBBKZB       0   73           1             2       43               0   \n",
       "1  IDD62UNG       0   30           2             0       32               0   \n",
       "2  HD3DSEMC       0   56           3             2       26               0   \n",
       "3  BF3NC7KV       1   34           2             0       19               0   \n",
       "4  TEASRWXV       0   30           2             0       33               0   \n",
       "\n",
       "   Avg_Account_Balance  Is_Active  Is_Lead  ...  RG250  RG255  RG258  RG253  \\\n",
       "0              1045696          0        0  ...      0      0      0      0   \n",
       "1               581988          0        0  ...      0      0      0      0   \n",
       "2              1484315          1        0  ...      0      0      0      0   \n",
       "3               470454          0        0  ...      0      0      0      0   \n",
       "4               886787          0        0  ...      0      0      0      0   \n",
       "\n",
       "   RG278  RG262  RG266  RG265  RG271  RG267  \n",
       "0      0      0      0      0      0      0  \n",
       "1      0      0      0      0      0      0  \n",
       "2      0      0      0      0      0      0  \n",
       "3      0      0      0      0      0      0  \n",
       "4      0      0      0      0      0      0  \n",
       "\n",
       "[5 rows x 45 columns]"
      ]
     },
     "execution_count": 11,
     "metadata": {},
     "output_type": "execute_result"
    }
   ],
   "source": [
    "train.head()"
   ]
  },
  {
   "cell_type": "markdown",
   "id": "ready-tourist",
   "metadata": {
    "papermill": {
     "duration": 0.015984,
     "end_time": "2021-05-31T07:13:23.638307",
     "exception": false,
     "start_time": "2021-05-31T07:13:23.622323",
     "status": "completed"
    },
    "tags": []
   },
   "source": [
    "#### Q-Q Plot\n",
    "To check the distribution and perform operations accordingly"
   ]
  },
  {
   "cell_type": "code",
   "execution_count": 12,
   "id": "endless-certificate",
   "metadata": {
    "execution": {
     "iopub.execute_input": "2021-05-31T07:13:23.674293Z",
     "iopub.status.busy": "2021-05-31T07:13:23.673687Z",
     "iopub.status.idle": "2021-05-31T07:13:23.678141Z",
     "shell.execute_reply": "2021-05-31T07:13:23.678550Z",
     "shell.execute_reply.started": "2021-05-31T07:10:22.117163Z"
    },
    "papermill": {
     "duration": 0.024201,
     "end_time": "2021-05-31T07:13:23.678775",
     "exception": false,
     "start_time": "2021-05-31T07:13:23.654574",
     "status": "completed"
    },
    "tags": []
   },
   "outputs": [],
   "source": [
    "def plot_data(df, feature):\n",
    "    plt.figure(figsize=(12,6))\n",
    "    plt.subplot(1,2,1)\n",
    "    sns.distplot(df[feature])\n",
    "    plt.subplot(1,2,2)\n",
    "    stat.probplot(df[feature], dist='norm', plot=pylab)\n",
    "    plt.show()\n",
    "    print(df[feature].skew())"
   ]
  },
  {
   "cell_type": "code",
   "execution_count": 13,
   "id": "civic-layout",
   "metadata": {
    "execution": {
     "iopub.execute_input": "2021-05-31T07:13:23.714132Z",
     "iopub.status.busy": "2021-05-31T07:13:23.713554Z",
     "iopub.status.idle": "2021-05-31T07:13:25.664937Z",
     "shell.execute_reply": "2021-05-31T07:13:25.663920Z",
     "shell.execute_reply.started": "2021-05-31T07:10:22.133430Z"
    },
    "papermill": {
     "duration": 1.969984,
     "end_time": "2021-05-31T07:13:25.665111",
     "exception": false,
     "start_time": "2021-05-31T07:13:23.695127",
     "status": "completed"
    },
    "tags": []
   },
   "outputs": [
    {
     "name": "stderr",
     "output_type": "stream",
     "text": [
      "/opt/conda/lib/python3.7/site-packages/seaborn/distributions.py:2557: FutureWarning: `distplot` is a deprecated function and will be removed in a future version. Please adapt your code to use either `displot` (a figure-level function with similar flexibility) or `histplot` (an axes-level function for histograms).\n",
      "  warnings.warn(msg, FutureWarning)\n"
     ]
    },
    {
     "data": {
      "image/png": "[encoded data removed]",
      "text/plain": [
       "<Figure size 864x432 with 2 Axes>"
      ]
     },
     "metadata": {
      "needs_background": "light"
     },
     "output_type": "display_data"
    },
    {
     "name": "stdout",
     "output_type": "stream",
     "text": [
      "2.968726515557337\n"
     ]
    }
   ],
   "source": [
    "plot_data(train, 'Avg_Account_Balance')"
   ]
  },
  {
   "cell_type": "code",
   "execution_count": 14,
   "id": "subject-soviet",
   "metadata": {
    "execution": {
     "iopub.execute_input": "2021-05-31T07:13:25.706423Z",
     "iopub.status.busy": "2021-05-31T07:13:25.705795Z",
     "iopub.status.idle": "2021-05-31T07:13:27.748207Z",
     "shell.execute_reply": "2021-05-31T07:13:27.747733Z",
     "shell.execute_reply.started": "2021-05-31T07:10:24.129918Z"
    },
    "papermill": {
     "duration": 2.065011,
     "end_time": "2021-05-31T07:13:27.748358",
     "exception": false,
     "start_time": "2021-05-31T07:13:25.683347",
     "status": "completed"
    },
    "tags": []
   },
   "outputs": [
    {
     "name": "stderr",
     "output_type": "stream",
     "text": [
      "/opt/conda/lib/python3.7/site-packages/seaborn/distributions.py:2557: FutureWarning: `distplot` is a deprecated function and will be removed in a future version. Please adapt your code to use either `displot` (a figure-level function with similar flexibility) or `histplot` (an axes-level function for histograms).\n",
      "  warnings.warn(msg, FutureWarning)\n"
     ]
    },
    {
     "data": {
      "image/png": "[encoded data removed]",
      "text/plain": [
       "<Figure size 864x432 with 2 Axes>"
      ]
     },
     "metadata": {
      "needs_background": "light"
     },
     "output_type": "display_data"
    },
    {
     "name": "stdout",
     "output_type": "stream",
     "text": [
      "0.2351775282236966\n"
     ]
    }
   ],
   "source": [
    "train['Avg_Account_Balance']=np.log(train.Avg_Account_Balance)\n",
    "test['Avg_Account_Balance']=np.log(test.Avg_Account_Balance)\n",
    "plot_data(train, 'Avg_Account_Balance')"
   ]
  },
  {
   "cell_type": "markdown",
   "id": "inclusive-exploration",
   "metadata": {
    "papermill": {
     "duration": 0.01882,
     "end_time": "2021-05-31T07:13:27.787095",
     "exception": false,
     "start_time": "2021-05-31T07:13:27.768275",
     "status": "completed"
    },
    "tags": []
   },
   "source": [
    "## Splitting dataset and performing oversampling"
   ]
  },
  {
   "cell_type": "code",
   "execution_count": 15,
   "id": "skilled-community",
   "metadata": {
    "execution": {
     "iopub.execute_input": "2021-05-31T07:13:27.860442Z",
     "iopub.status.busy": "2021-05-31T07:13:27.859603Z",
     "iopub.status.idle": "2021-05-31T07:13:27.985329Z",
     "shell.execute_reply": "2021-05-31T07:13:27.984833Z",
     "shell.execute_reply.started": "2021-05-31T07:10:26.450683Z"
    },
    "papermill": {
     "duration": 0.179168,
     "end_time": "2021-05-31T07:13:27.985472",
     "exception": false,
     "start_time": "2021-05-31T07:13:27.806304",
     "status": "completed"
    },
    "tags": []
   },
   "outputs": [],
   "source": [
    "X = train.drop(['ID','Is_Lead'], axis = 1)\n",
    "y = train.Is_Lead\n",
    "\n",
    "X_train, X_test, y_train, y_test=train_test_split(X, y, test_size=0.33)"
   ]
  },
  {
   "cell_type": "code",
   "execution_count": 16,
   "id": "liberal-diagnosis",
   "metadata": {
    "execution": {
     "iopub.execute_input": "2021-05-31T07:13:28.029989Z",
     "iopub.status.busy": "2021-05-31T07:13:28.028906Z",
     "iopub.status.idle": "2021-05-31T07:13:28.035896Z",
     "shell.execute_reply": "2021-05-31T07:13:28.035419Z",
     "shell.execute_reply.started": "2021-05-31T07:10:26.705301Z"
    },
    "papermill": {
     "duration": 0.030621,
     "end_time": "2021-05-31T07:13:28.036041",
     "exception": false,
     "start_time": "2021-05-31T07:13:28.005420",
     "status": "completed"
    },
    "tags": []
   },
   "outputs": [],
   "source": [
    "# Changing dtypes\n",
    "train['Avg_Account_Balance'] = train['Avg_Account_Balance'].astype(int)\n",
    "test['Avg_Account_Balance'] = test['Avg_Account_Balance'].astype(int)"
   ]
  },
  {
   "cell_type": "code",
   "execution_count": 17,
   "id": "covered-knowing",
   "metadata": {
    "execution": {
     "iopub.execute_input": "2021-05-31T07:13:28.079190Z",
     "iopub.status.busy": "2021-05-31T07:13:28.078501Z",
     "iopub.status.idle": "2021-05-31T07:13:28.491241Z",
     "shell.execute_reply": "2021-05-31T07:13:28.490410Z",
     "shell.execute_reply.started": "2021-05-31T07:10:26.716104Z"
    },
    "papermill": {
     "duration": 0.436189,
     "end_time": "2021-05-31T07:13:28.491557",
     "exception": false,
     "start_time": "2021-05-31T07:13:28.055368",
     "status": "completed"
    },
    "tags": []
   },
   "outputs": [
    {
     "name": "stderr",
     "output_type": "stream",
     "text": [
      "/opt/conda/lib/python3.7/site-packages/imblearn/utils/_validation.py:591: FutureWarning: Pass sampling_strategy=0.75 as keyword args. From version 0.9 passing these as positional arguments will result in an error\n",
      "  FutureWarning,\n"
     ]
    },
    {
     "name": "stdout",
     "output_type": "stream",
     "text": [
      "The number of classes before fit Counter({0: 125839, 1: 38796})\n",
      "The number of classes after fit Counter({0: 125839, 1: 94379})\n"
     ]
    }
   ],
   "source": [
    "# Performing Oversampling\n",
    "\n",
    "ros=RandomOverSampler(0.75)\n",
    "X_resampled,y_resampled = ros.fit_resample(X_train,y_train)\n",
    "print(\"The number of classes before fit {}\".format(Counter(y_train)))\n",
    "print(\"The number of classes after fit {}\".format(Counter(y_resampled)))"
   ]
  },
  {
   "cell_type": "markdown",
   "id": "duplicate-globe",
   "metadata": {
    "papermill": {
     "duration": 0.019544,
     "end_time": "2021-05-31T07:13:28.531869",
     "exception": false,
     "start_time": "2021-05-31T07:13:28.512325",
     "status": "completed"
    },
    "tags": []
   },
   "source": [
    "## Model build and training"
   ]
  },
  {
   "cell_type": "code",
   "execution_count": 18,
   "id": "controlling-whale",
   "metadata": {
    "execution": {
     "iopub.execute_input": "2021-05-31T07:13:28.576565Z",
     "iopub.status.busy": "2021-05-31T07:13:28.575470Z",
     "iopub.status.idle": "2021-05-31T07:14:16.722345Z",
     "shell.execute_reply": "2021-05-31T07:14:16.721864Z",
     "shell.execute_reply.started": "2021-05-31T07:10:27.201524Z"
    },
    "papermill": {
     "duration": 48.170866,
     "end_time": "2021-05-31T07:14:16.722476",
     "exception": false,
     "start_time": "2021-05-31T07:13:28.551610",
     "status": "completed"
    },
    "tags": []
   },
   "outputs": [
    {
     "name": "stdout",
     "output_type": "stream",
     "text": [
      "[07:13:29] WARNING: ../src/learner.cc:1095: Starting in XGBoost 1.3.0, the default evaluation metric used with the objective 'binary:logistic' was changed from 'error' to 'logloss'. Explicitly set eval_metric if you'd like to restore the old behavior.\n"
     ]
    },
    {
     "name": "stderr",
     "output_type": "stream",
     "text": [
      "/opt/conda/lib/python3.7/site-packages/xgboost/data.py:114: UserWarning: Use subset (sliced data) of np.ndarray is not recommended because it will generate extra copies and increase memory consumption\n",
      "  \"because it will generate extra copies and increase \" +\n"
     ]
    },
    {
     "data": {
      "text/plain": [
       "0.7850922248449025"
      ]
     },
     "execution_count": 18,
     "metadata": {},
     "output_type": "execute_result"
    }
   ],
   "source": [
    "# XGBoost\n",
    "\n",
    "xgb = XGBClassifier(use_label_encoder=False, max_depth=3, n_estimators=500, learning_rate=0.05).fit(X_resampled, y_resampled)\n",
    "pred_y_xgb = xgb.predict(X_test)\n",
    "accuracy = roc_auc_score(y_test, pred_y_xgb)\n",
    "accuracy"
   ]
  },
  {
   "cell_type": "code",
   "execution_count": 19,
   "id": "three-dancing",
   "metadata": {
    "execution": {
     "iopub.execute_input": "2021-05-31T07:14:16.766505Z",
     "iopub.status.busy": "2021-05-31T07:14:16.765937Z",
     "iopub.status.idle": "2021-05-31T07:14:21.268631Z",
     "shell.execute_reply": "2021-05-31T07:14:21.268165Z",
     "shell.execute_reply.started": "2021-05-31T07:11:21.966383Z"
    },
    "papermill": {
     "duration": 4.525685,
     "end_time": "2021-05-31T07:14:21.268759",
     "exception": false,
     "start_time": "2021-05-31T07:14:16.743074",
     "status": "completed"
    },
    "tags": []
   },
   "outputs": [
    {
     "data": {
      "text/plain": [
       "0.7822689128301201"
      ]
     },
     "execution_count": 19,
     "metadata": {},
     "output_type": "execute_result"
    }
   ],
   "source": [
    "#LGBMClassifier\n",
    "\n",
    "clf = LGBMClassifier(n_estimators=500, learning_rate=0.05)\n",
    "clf.fit(X_resampled, y_resampled)\n",
    "pred_y_lgbm = clf.predict(X_test)\n",
    "\n",
    "lgbm_accuracy = roc_auc_score(y_test, pred_y_lgbm)\n",
    "lgbm_accuracy"
   ]
  },
  {
   "cell_type": "markdown",
   "id": "usual-pakistan",
   "metadata": {
    "papermill": {
     "duration": 0.020432,
     "end_time": "2021-05-31T07:14:21.309782",
     "exception": false,
     "start_time": "2021-05-31T07:14:21.289350",
     "status": "completed"
    },
    "tags": []
   },
   "source": [
    "## Final prediction and submission"
   ]
  },
  {
   "cell_type": "code",
   "execution_count": 20,
   "id": "quality-overview",
   "metadata": {
    "execution": {
     "iopub.execute_input": "2021-05-31T07:14:21.358030Z",
     "iopub.status.busy": "2021-05-31T07:14:21.356648Z",
     "iopub.status.idle": "2021-05-31T07:14:21.734432Z",
     "shell.execute_reply": "2021-05-31T07:14:21.733936Z",
     "shell.execute_reply.started": "2021-05-31T07:12:24.565420Z"
    },
    "papermill": {
     "duration": 0.404127,
     "end_time": "2021-05-31T07:14:21.734578",
     "exception": false,
     "start_time": "2021-05-31T07:14:21.330451",
     "status": "completed"
    },
    "tags": []
   },
   "outputs": [
    {
     "name": "stderr",
     "output_type": "stream",
     "text": [
      "/opt/conda/lib/python3.7/site-packages/xgboost/data.py:114: UserWarning: Use subset (sliced data) of np.ndarray is not recommended because it will generate extra copies and increase memory consumption\n",
      "  \"because it will generate extra copies and increase \" +\n"
     ]
    }
   ],
   "source": [
    "predictions = xgb.predict(test.drop('ID', axis = 1))\n",
    "submission = pd.DataFrame({'ID': test['ID'],\n",
    "                    'Is_Lead': predictions})\n",
    "\n",
    "submission.to_csv(\"submission.csv\", index=False)"
   ]
  }
 ],
 "metadata": {
  "kernelspec": {
   "display_name": "Python 3",
   "language": "python",
   "name": "python3"
  },
  "language_info": {
   "codemirror_mode": {
    "name": "ipython",
    "version": 3
   },
   "file_extension": ".py",
   "mimetype": "text/x-python",
   "name": "python",
   "nbconvert_exporter": "python",
   "pygments_lexer": "ipython3",
   "version": "3.7.10"
  },
  "papermill": {
   "default_parameters": {},
   "duration": 71.39763,
   "end_time": "2021-05-31T07:14:22.565344",
   "environment_variables": {},
   "exception": null,
   "input_path": "__notebook__.ipynb",
   "output_path": "__notebook__.ipynb",
   "parameters": {},
   "start_time": "2021-05-31T07:13:11.167714",
   "version": "2.3.3"
  }
 },
 "nbformat": 4,
 "nbformat_minor": 5
}
